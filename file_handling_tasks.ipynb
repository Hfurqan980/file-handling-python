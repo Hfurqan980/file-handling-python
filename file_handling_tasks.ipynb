{
  "nbformat": 4,
  "nbformat_minor": 0,
  "metadata": {
    "colab": {
      "provenance": [],
      "include_colab_link": true
    },
    "kernelspec": {
      "name": "python3",
      "display_name": "Python 3"
    },
    "language_info": {
      "name": "python"
    }
  },
  "cells": [
    {
      "cell_type": "markdown",
      "metadata": {
        "id": "view-in-github",
        "colab_type": "text"
      },
      "source": [
        "<a href=\"https://colab.research.google.com/github/Hfurqan980/file-handling-python/blob/main/file_handling_tasks.ipynb\" target=\"_parent\"><img src=\"https://colab.research.google.com/assets/colab-badge.svg\" alt=\"Open In Colab\"/></a>"
      ]
    },
    {
      "cell_type": "markdown",
      "source": [
        "### `Q-1:` Write a function `get_final_line(filename)`, which takes filename as input and return final line of the file.\n",
        "\n",
        "Note: You can choose any file of your choice."
      ],
      "metadata": {
        "id": "MbeMdx5d5qRj"
      }
    },
    {
      "cell_type": "code",
      "source": [
        "# Write code here"
      ],
      "metadata": {
        "id": "rjx9XRTq5uzD"
      },
      "execution_count": null,
      "outputs": []
    },
    {
      "cell_type": "markdown",
      "source": [
        "###`Q-2:` Read through a text file, line by line. Use a dict to keep track of how many times each vowel (a, e, i, o, and u) appears in the file. Print the resulting tabulation -- dictionary."
      ],
      "metadata": {
        "id": "B87Z6-yQ5wVO"
      }
    },
    {
      "cell_type": "code",
      "source": [
        "# Write code here"
      ],
      "metadata": {
        "id": "XeXnOL7X50Sa"
      },
      "execution_count": null,
      "outputs": []
    },
    {
      "cell_type": "markdown",
      "source": [
        "###`Q-3:` Create a text file (using an editor, not necessarily Python) containing two tab separated columns, with each column containing a number. Then use Python to read through the file you’ve created. For each line, multiply each first number by the second and include it in the file in third column. In last add a line Total, by summing the value of third column\n",
        "\n"
      ],
      "metadata": {
        "id": "lRqQ2Y295-Gg"
      }
    },
    {
      "cell_type": "markdown",
      "source": [
        "Input File example: That you need to create\n",
        "```\n",
        "1   2\n",
        "3   4\n",
        "5   6\n",
        "7   8\n",
        "9   10\n",
        "\n",
        "```\n",
        "\n",
        "Output File Example:\n",
        "```\n",
        "1   2   2\n",
        "3   4   12\n",
        "5   6   30\n",
        "7   8   56\n",
        "9   10  90\n",
        "Total   190\n",
        "```\n"
      ],
      "metadata": {
        "id": "GtFfahZc6Bvg"
      }
    },
    {
      "cell_type": "code",
      "source": [
        "# write code here\n",
        "\n",
        "import json\n",
        "# first we read it from the file and store the data in the list\n",
        "pairs = []\n",
        "with open(\"product.txt\",\"r\") as  f:\n",
        "  for line in f:\n",
        "    num = list(map(int,line.split())) # split each line value and convert into int and store as a pair  value in list\n",
        "\n",
        "    if len(num) == 2: # check exactly the two number\n",
        "      pairs.append(num)\n",
        "\n",
        "  print(pairs)\n",
        "\n"
      ],
      "metadata": {
        "id": "GiKvqHnr5-j2",
        "colab": {
          "base_uri": "https://localhost:8080/"
        },
        "outputId": "2cffc2f6-80e5-4918-c055-e75a0f0616ef"
      },
      "execution_count": null,
      "outputs": [
        {
          "output_type": "stream",
          "name": "stdout",
          "text": [
            "[[1, 2], [3, 4], [5, 6], [7, 8], [9, 5]]\n"
          ]
        }
      ]
    },
    {
      "cell_type": "code",
      "source": [
        "# calculate the each line product and calculate the total of the product\n",
        "result = []\n",
        "total = 0\n",
        "for a,b in pairs:\n",
        "  number = a*b\n",
        "  total += number\n",
        "  result.append((a,b,number))\n"
      ],
      "metadata": {
        "id": "KbgUlkwWM8IW"
      },
      "execution_count": null,
      "outputs": []
    },
    {
      "cell_type": "code",
      "source": [
        "# And write the  value inn the same file\n",
        "\n",
        "\n",
        "with open(\"product.txt\",\"w\") as f:\n",
        "  for a,b,p in result:\n",
        "    f.write(f\"{a:<5}{b:<5}{p:<5}\\n\")\n",
        "  f.write(f\"{'Total':<10}{total}\\n\")"
      ],
      "metadata": {
        "id": "3eIMdykpM_0f"
      },
      "execution_count": null,
      "outputs": []
    },
    {
      "cell_type": "markdown",
      "source": [
        "###`Q-4:` Create line wise reverse of a file\n",
        "Write a function which takes two arguments: the names of the input file (to be read from) and the output file (which will be created)."
      ],
      "metadata": {
        "id": "DunQepHC6J9r"
      }
    },
    {
      "cell_type": "markdown",
      "source": [
        "For example, if a file looks like\n",
        " ```\n",
        "abc def\n",
        "ghi jkl\n",
        "```\n",
        "then the output file will be\n",
        "```\n",
        "fed cba\n",
        "lkj ihg\n",
        "```\n",
        "**Notice**: The newline remains at the end of the string, while the rest of the characters are all reversed."
      ],
      "metadata": {
        "id": "QxWEtFle6Nmu"
      }
    },
    {
      "cell_type": "code",
      "source": [
        "# write first valur in the file\n",
        "import json\n",
        "l = [\"abc def\\n\",\"ghi jkl\"]\n",
        "with open(\"sample.txt\" , \"w\") as f:\n",
        " d = f.writelines(l)"
      ],
      "metadata": {
        "id": "aIJTJNAq6LD7"
      },
      "execution_count": null,
      "outputs": []
    },
    {
      "cell_type": "code",
      "source": [
        "#reverse the line and add to the same file\n",
        "\n",
        "def reverseLine(input_file,output_file):\n",
        "  with open(input_file,\"r\") as f:\n",
        "      lines = f.readlines()\n",
        "      print(lines)\n",
        "\n",
        "  # reverse each line\n",
        "  reversed_lines = []\n",
        "  for line in lines:\n",
        "    if line.endswith(\"\\n\"):\n",
        "      reversed_lines.append(line[:-1][::-1] + \"\\n\")\n",
        "    else:\n",
        "      reversed_lines.append(line[::-1])\n",
        "\n",
        "  with open(output_file, \"w\") as f:\n",
        "    f.writelines(reversed_lines)\n",
        "\n",
        "reverseLine(\"sample.txt\",\"reversed.txt\")\n",
        "print(\"File with the  reversed lines\")"
      ],
      "metadata": {
        "colab": {
          "base_uri": "https://localhost:8080/"
        },
        "id": "500Ls0HcQYDW",
        "outputId": "05abf06e-0829-4d22-8a79-4e4cfbd51eb8"
      },
      "execution_count": null,
      "outputs": [
        {
          "output_type": "stream",
          "name": "stdout",
          "text": [
            "['abc def\\n', 'ghi jkl']\n",
            "File with the  reversed lines\n"
          ]
        }
      ]
    },
    {
      "cell_type": "markdown",
      "source": [
        "###`Q-5:` Create a Serialized dict of frequency of words in the file. And from given list of words, using serialized dict show word count.\n",
        "\n",
        "* List of word will be given\n",
        "\n"
      ],
      "metadata": {
        "id": "wqvx3sMY6bou"
      }
    },
    {
      "cell_type": "markdown",
      "source": [
        "Given String\n",
        "\n",
        "```\n",
        "strings = \"\"\"Alice was beginning to get very tired of sitting by her sister\n",
        "            on the bank, and of having nothing to do:  once or twice she had\n",
        "            peeped into the book her sister was reading, but it had no\n",
        "            pictures or conversations in it, `and what is the use of a book,'\n",
        "            thought Alice `without pictures or conversation?'\n",
        "\n",
        "            So she was considering in her own mind (as well as she could,\n",
        "            for the hot day made her feel very sleepy and stupid), whether\n",
        "            the pleasure of making a daisy-chain would be worth the trouble\n",
        "            of getting up and picking the daisies, when suddenly a White\n",
        "            Rabbit with pink eyes ran close by her.\n",
        "\n",
        "            There was nothing so VERY remarkable in that; nor did Alice\n",
        "            think it so VERY much out of the way to hear the Rabbit say to\n",
        "            itself, `Oh dear!  Oh dear!  I shall be late!'  (when she thought\n",
        "            it over afterwards, it occurred to her that she ought to have\n",
        "            wondered at this, but at the time it all seemed quite natural);\n",
        "            but when the Rabbit actually TOOK A WATCH OUT OF ITS WAISTCOAT-\n",
        "            POCKET, and looked at it, and then hurried on, Alice started to\n",
        "            her feet, for it flashed across her mind that she had never\n",
        "            before seen a rabbit with either a waistcoat-pocket, or a watch to\n",
        "            take out of it, and burning with curiosity, she ran across the\n",
        "            field after it, and fortunately was just in time to see it pop\n",
        "            down a large rabbit-hole under the hedge.\"\"\"\n",
        "\n",
        "word_list = ['alice', 'wonder', 'natural']\n",
        "```"
      ],
      "metadata": {
        "id": "uc5MSUWg6cZG"
      }
    },
    {
      "cell_type": "code",
      "source": [
        "# write code here\n",
        "\n",
        "with open(\"string.txt\", \"w\") as f:\n",
        "  f.write(\"\"\"\n",
        "            Alice was beginning to get very tired of sitting by her sister\n",
        "            on the bank, and of having nothing to do:  once or twice she had\n",
        "            peeped into the book her sister was reading, but it had no\n",
        "            pictures or conversations in it, `and what is the use of a book,'\n",
        "            thought Alice `without pictures or conversation?'\n",
        "\n",
        "            So she was considering in her own mind (as well as she could,\n",
        "            for the hot day made her feel very sleepy and stupid), whether\n",
        "            the pleasure of making a daisy-chain would be worth the trouble\n",
        "            of getting up and picking the daisies, when suddenly a White\n",
        "            Rabbit with pink eyes ran close by her.\n",
        "\n",
        "            There was nothing so VERY remarkable in that; nor did Alice\n",
        "            think it so VERY much out of the way to hear the Rabbit say to\n",
        "            itself, `Oh dear!  Oh dear!  I shall be late!'  (when she thought\n",
        "            it over afterwards, it occurred to her that she ought to have\n",
        "            wondered at this, but at the time it all seemed quite natural);\n",
        "            but when the Rabbit actually TOOK A WATCH OUT OF ITS WAISTCOAT-\n",
        "            POCKET, and looked at it, and then hurried on, Alice started to\n",
        "            her feet, for it flashed across her mind that she had never\n",
        "            before seen a rabbit with either a waistcoat-pocket, or a watch to\n",
        "            take out of it, and burning with curiosity, she ran across the\n",
        "            field after it, and fortunately was just in time to see it pop\n",
        "            down a large rabbit-hole under the hedge.\"\"\")"
      ],
      "metadata": {
        "id": "-SmtFFUq6a70"
      },
      "execution_count": null,
      "outputs": []
    },
    {
      "cell_type": "code",
      "source": [
        "import json\n",
        "word_list = ['alice', 'wonder', 'natural']\n",
        "dic ={word : 0 for word in word_list}\n",
        "\n",
        "with open(\"string.txt\" , \"r\") as f:\n",
        "  data = f.read().lower()\n",
        "\n",
        "  for i in word_list:\n",
        "    for j in data.split():\n",
        "      if i == j:\n",
        "        dic[j] +=1\n",
        "\n",
        "with open(\"serialized_dic\",\"w\") as f:\n",
        "  json.dump(dic,f,indent= 4)\n"
      ],
      "metadata": {
        "id": "h6cqV5IjizJQ"
      },
      "execution_count": null,
      "outputs": []
    },
    {
      "cell_type": "code",
      "source": [
        "from collections.abc import ValuesView\n",
        "string = \"\"\"hello world hello python python python\"\"\"\n",
        "split = string.split()\n",
        "\n",
        "\n",
        "word_list = [\"hello\", \"python\", \"java\"]\n",
        "dic  = {word:0 for word in word_list}\n",
        "print(\"before checking\")\n",
        "print(dic)\n",
        "for i in word_list:\n",
        "  for j in split:\n",
        "    if i == j:\n",
        "      dic[j] += 1\n",
        "print(\"after checking\")\n",
        "print(dic)\n"
      ],
      "metadata": {
        "colab": {
          "base_uri": "https://localhost:8080/"
        },
        "id": "M2XFqvIVlaaW",
        "outputId": "c0b8334b-0b27-45b9-e428-8a35ceacf578"
      },
      "execution_count": null,
      "outputs": [
        {
          "output_type": "stream",
          "name": "stdout",
          "text": [
            "before checking\n",
            "{'hello': 0, 'python': 0, 'java': 0}\n",
            "after checking\n",
            "{'hello': 2, 'python': 3, 'java': 0}\n"
          ]
        }
      ]
    },
    {
      "cell_type": "markdown",
      "source": [
        "### **`Q-6:`** Given a string calculate length of the string using recursion.\n",
        "\n",
        "**Example 1:**\n",
        "\n",
        "Input:\n",
        "```bash\n",
        "\"abcd\"\n",
        "```\n",
        "\n",
        "Output:\n",
        "\n",
        "```bash\n",
        "4\n",
        "```\n",
        "\n",
        "**Example 2:**\n",
        "\n",
        "Input:\n",
        "```bash\n",
        "DataScience\n",
        "```\n",
        "\n",
        "Output:\n",
        "\n",
        "```bash\n",
        "11\n",
        "```\n"
      ],
      "metadata": {
        "id": "Und2HuFW6kAw"
      }
    },
    {
      "cell_type": "code",
      "source": [
        "# Write code here\n",
        "\n",
        "def calculate_string(text):\n",
        "  count = len(text)\n",
        "  print(count)\n",
        "calculate_string(\"Hello\")"
      ],
      "metadata": {
        "id": "9HE7lB5W61gT",
        "colab": {
          "base_uri": "https://localhost:8080/"
        },
        "outputId": "63e5b747-605c-4f93-dbf3-29f3821f1684"
      },
      "execution_count": null,
      "outputs": [
        {
          "output_type": "stream",
          "name": "stdout",
          "text": [
            "5\n"
          ]
        }
      ]
    },
    {
      "cell_type": "markdown",
      "source": [
        "### **`Q-7:`** Write a function that accepts two numbers and returns their greatest common divisior. Without using any loop\n",
        "\n",
        "def gcd(int, int) => int\n",
        "\n",
        "```\n",
        "gcd(16,24) will give 8\n",
        "```"
      ],
      "metadata": {
        "id": "iUDvc-jl6759"
      }
    },
    {
      "cell_type": "code",
      "source": [
        "# Write code here\n",
        "def gcd(num1,num2):\n",
        "  while num2 != 0:\n",
        "    num1 , num2 = num2 , num1%num2\n",
        "  return num1\n",
        "print(gcd(16,24))"
      ],
      "metadata": {
        "id": "uMQnojHR7O2S",
        "colab": {
          "base_uri": "https://localhost:8080/"
        },
        "outputId": "3b78dbe0-bd8a-4947-82f3-334d28478c5c"
      },
      "execution_count": null,
      "outputs": [
        {
          "output_type": "stream",
          "name": "stdout",
          "text": [
            "8\n"
          ]
        }
      ]
    },
    {
      "cell_type": "markdown",
      "source": [
        " ### `Q-8:` String Edit Distance\n",
        "\n",
        " Use your recursive function to write a program that reads two strings from the\n",
        "user and displays the edit distance between them.\n",
        "\n",
        "*The edit distance between two strings is a measure of their similarity—the smaller the edit distance, the more similar the strings are with regard to the minimum number of insert, delete and substitute operations needed to transform one string into the other.*\n",
        "\n",
        "Consider the strings `kitten` and `sitting`. The first string can be transformed\n",
        "into the second string with the following operations:\n",
        "* Substitute the `k` with an `s`,\n",
        "* substitute the `e` with an `i`,\n",
        "* and insert a `g` at the end of the string.\n",
        "\n",
        "This is the smallest number of operations that can be performed to transform kitten into sitting. As a result, the edit distance is `3`.\n",
        "\n",
        "\n",
        "Write a recursive function that computes the edit distance between two strings.\n",
        "\n",
        "Use the following algorithm:\n",
        "\n",
        "```\n",
        "Let s and t be the strings\n",
        "    If the length of s is 0 then\n",
        "        Return the length of t\n",
        "    Else if the length of t is 0 then\n",
        "        Return the length of s\n",
        "    Else\n",
        "        Set cost to 0\n",
        "        If the last character in s does not equal the last character in t then\n",
        "            Set cost to 1\n",
        "        Set d1 equal to the edit distance between all characters except the last one in s, and all characters in t, plus 1\n",
        "        Set d2 equal to the edit distance between all characters in s, and all characters except the last one in t, plus 1\n",
        "\n",
        "        Set d3 equal to the edit distance between all characters except the last one in s, and all characters except the last one in t, plus cost\n",
        "        Return the minimum of d1, d2 and d3\n",
        "```\n",
        "\n",
        "\n",
        "\n"
      ],
      "metadata": {
        "id": "wFD35fva7Q_B"
      }
    },
    {
      "cell_type": "code",
      "source": [
        "# write code here"
      ],
      "metadata": {
        "id": "zlNy_Q987QOX"
      },
      "execution_count": null,
      "outputs": []
    },
    {
      "cell_type": "markdown",
      "source": [
        "###`Q-9:` Run-Length Encoding\n",
        "\n",
        "Run-length encoding is a simple data compression technique that can be effective when repeated values occur at adjacent positions within a list. Compression is achieved by replacing groups of repeated values with one copy of the value, followed by the number of times that the value should be repeated. For example, the list\n",
        "```\n",
        "[\"A\", \"A\", \"A\", \"A\", \"A\", \"A\", \"A\", \"A\", \"A\", \"A\", \"A\", \"A\", \"B\", \"B\", \"B\", \"B\", \"A\", \"A\", \"A\", \"A\", \"A\", \"A\", \"B\"]\n",
        "```\n",
        "would be compressed as `[\"A\", 12, \"B\", 4, \"A\", 6, \"B\", 1]`.\n",
        "\n",
        "Write a recursive function that implements the run-length compression technique\n",
        "described above. Your function will take a list or a string as its only parameter. It should return the run-length compressed list as its only result. Include a main program that reads a string from the user, compresses it, and displays the run-length encoded result."
      ],
      "metadata": {
        "id": "Hc9e-qES7iAK"
      }
    },
    {
      "cell_type": "code",
      "source": [
        "# Write code here\n",
        "\n",
        "l = [\"X\",\"X\",\"Y\",\"Y\",\"Y\",\"Z\"]\n",
        "\n",
        "current_symbol = l[0]\n",
        "print(current_symbol)\n",
        "count = 1\n",
        "new_list = []\n",
        "for i in range(1,len(l)):\n",
        "  if current_symbol == l[i]:\n",
        "    count+=1\n",
        "  else:\n",
        "    new_list.extend([l[i-1],count])\n",
        "    current_symbol = l[i]\n",
        "    count = 1\n",
        "new_list.extend([l[-1],count])\n",
        "print(new_list)\n",
        "\n",
        "\n"
      ],
      "metadata": {
        "id": "W2Wb_WzP7qM1",
        "colab": {
          "base_uri": "https://localhost:8080/"
        },
        "outputId": "1c9a59dc-d2b4-4f13-cbd0-320e416cf5ae"
      },
      "execution_count": null,
      "outputs": [
        {
          "output_type": "stream",
          "name": "stdout",
          "text": [
            "X\n",
            "['X', 2, 'Y', 3, 'Z', 1]\n"
          ]
        }
      ]
    },
    {
      "cell_type": "markdown",
      "source": [
        "###`Q-10:` Write a recursive function to convert a decimal to binary"
      ],
      "metadata": {
        "id": "x6A-4vGC8SLs"
      }
    },
    {
      "cell_type": "code",
      "source": [
        "\n",
        "# decimal to binary\n",
        "def deci_to_bin(n):\n",
        "\n",
        "  binary = \"\"\n",
        "  while n > 0:\n",
        "    reminder = n%2\n",
        "    binary = str(reminder) + binary\n",
        "    n = n// 2\n",
        "  print(binary)\n",
        "\n",
        "deci_to_bin(25)\n"
      ],
      "metadata": {
        "colab": {
          "base_uri": "https://localhost:8080/"
        },
        "id": "2zfAbZCc3_9L",
        "outputId": "aed10aaa-aaea-40de-c83e-8f261055ccf6"
      },
      "execution_count": null,
      "outputs": [
        {
          "output_type": "stream",
          "name": "stdout",
          "text": [
            "11001\n"
          ]
        }
      ]
    },
    {
      "cell_type": "code",
      "source": [
        "# Write code here"
      ],
      "metadata": {
        "id": "izOr6D9V8aME"
      },
      "execution_count": null,
      "outputs": []
    },
    {
      "cell_type": "code",
      "source": [],
      "metadata": {
        "id": "f38bMtgeGEdP"
      },
      "execution_count": null,
      "outputs": []
    }
  ]
}